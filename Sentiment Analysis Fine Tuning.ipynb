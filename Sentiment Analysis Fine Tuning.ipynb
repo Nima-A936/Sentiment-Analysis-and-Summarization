{
 "cells": [
  {
   "cell_type": "code",
   "execution_count": null,
   "id": "6233e35d-698b-4749-bfa0-25fa5033d1aa",
   "metadata": {},
   "outputs": [],
   "source": [
    "from datasets import load_dataset, DatasetDict, Dataset\n",
    "\n",
    "from transformers import (\n",
    "    AutoTokenizer,\n",
    "    AutoConfig, \n",
    "    AutoModelForSequenceClassification,\n",
    "    DataCollatorWithPadding,\n",
    "    TrainingArguments,\n",
    "    Trainer)\n",
    "\n",
    "from peft import (\n",
    "    PeftModel,\n",
    "    PeftConfig, \n",
    "    get_peft_model,\n",
    "    LoraConfig,\n",
    "    )\n",
    "\n",
    "import evaluate\n",
    "import torch\n",
    "import numpy as np"
   ]
  },
  {
   "cell_type": "code",
   "execution_count": null,
   "id": "2bcd191c-0507-4846-ba7f-3f4b04efa35d",
   "metadata": {},
   "outputs": [],
   "source": [
    "device = torch.device(\"cuda\" if torch.cuda.is_available() else \"cpu\")\n",
    "print(f\"Using device: {device}\")"
   ]
  },
  {
   "cell_type": "code",
   "execution_count": 2,
   "id": "8a7be175-119c-46d7-b4ed-759d5b330ca6",
   "metadata": {},
   "outputs": [],
   "source": [
    "id2label = {0:\"Negative\" ,1:\"Positive\"}\n",
    "label2id = {\"Negative\":0 , \"Positive\":1}"
   ]
  },
  {
   "cell_type": "code",
   "execution_count": 4,
   "id": "e9cecaa9-6c80-447f-88d8-e1f296995ad7",
   "metadata": {},
   "outputs": [],
   "source": [
    "dataset = load_dataset(\"shawhin/imdb-truncated\")"
   ]
  },
  {
   "cell_type": "code",
   "execution_count": null,
   "id": "01cf44dc-f4bf-458a-8b57-5d1499fd5d03",
   "metadata": {},
   "outputs": [],
   "source": [
    "# Load a pretrained model using  AutoModelForSequenceClassification\n",
    "model = AutoModelForSequenceClassification.from_pretrained(\n",
    "    \"distilbert-base-uncased\",\n",
    "    num_labels=2,\n",
    "    id2label=id,\n",
    "    label2id = label\n",
    ").to(device)\n",
    "model"
   ]
  },
  {
   "cell_type": "code",
   "execution_count": 6,
   "id": "c17aa6e1-5e2c-404f-9f22-bb0b81c4651a",
   "metadata": {},
   "outputs": [],
   "source": [
    "# Load a pre-trained tokenizer using AutoTokenizer\n",
    "Tokenizer = AutoTokenizer.from_pretrained(\"distilbert-base-uncased\",add_prefix_space=True)\n",
    "Tokenizer"
   ]
  },
  {
   "cell_type": "code",
   "execution_count": 7,
   "id": "2f3e6f67-4147-49d9-8614-f0ad5ed8fedd",
   "metadata": {},
   "outputs": [],
   "source": [
    "# Define a dictionary to hold special tokens\n",
    "special_tokens_dict = {\n",
    "            'pad_token': '[PAD]',\n",
    "            'cls_token': '[CLS]',\n",
    "}"
   ]
  },
  {
   "cell_type": "code",
   "execution_count": 8,
   "id": "f5662515-77cc-4126-9ec6-cd8d22f53a71",
   "metadata": {},
   "outputs": [],
   "source": [
    "if Tokenizer.pad_token is None:\n",
    "    Tokenizer.additional_special_tokens(special_tokens_dict)\n",
    "    Tokenizer.resize_token_embeddings(len(Tokenizer))"
   ]
  },
  {
   "cell_type": "code",
   "execution_count": 9,
   "id": "4b36858c-5439-43c5-a0cc-30f5b442a2d1",
   "metadata": {},
   "outputs": [],
   "source": [
    "def Token_func(sample):\n",
    "    text = sample[\"text\"]\n",
    "    #configure the behavior of a tokenizer\n",
    "    Tokenizer.truncation_side = \"left\"\n",
    "    #Tokenizer settings\n",
    "    inputs = Tokenizer(\n",
    "        text,\n",
    "        truncation=True,\n",
    "        max_length=512,\n",
    "        padding = \"max_length\",\n",
    "        return_tensors=None,\n",
    "        add_special_tokens=True,\n",
    "        pad_to_multiple_of=None,\n",
    ")\n",
    "    return inputs"
   ]
  },
  {
   "cell_type": "code",
   "execution_count": 10,
   "id": "59d00ed5-820b-4ce1-964e-28e166d4df64",
   "metadata": {},
   "outputs": [],
   "source": [
    "# Create a data collator that automatically pads inputs to the same length\n",
    "collator = DataCollatorWithPadding(tokenizer=Tokenizer)\n",
    "collator"
   ]
  },
  {
   "cell_type": "code",
   "execution_count": 11,
   "id": "eb769b58-2560-4233-bf46-9fe3c14fd281",
   "metadata": {},
   "outputs": [],
   "source": [
    "# Apply a tokenization function to the dataset\n",
    "tokenized_dataset = dataset.map(Token_func,batched=True)\n",
    "tokenized_dataset"
   ]
  },
  {
   "cell_type": "code",
   "execution_count": 12,
   "id": "3cca6caa-ddf1-42c1-9dc2-e5bd6978e503",
   "metadata": {},
   "outputs": [],
   "source": [
    "# Load the accuracy metric from the evaluate library\n",
    "metrics = evaluate.load(\"accuracy\")"
   ]
  },
  {
   "cell_type": "code",
   "execution_count": 13,
   "id": "e880673c-ae10-4ed8-afc8-03f4ed0cf440",
   "metadata": {},
   "outputs": [],
   "source": [
    "#define accuracy metric\n",
    "def compute_metric(metric):\n",
    "    predictions , labels = metric\n",
    "    predictions = np.argmax(predictions,axis=1)\n",
    "    accuracy_metric = metrics.compute(predictions=predictions , references=labels)\n",
    "    return {\"accuracy\" : accuracy_metric}"
   ]
  },
  {
   "cell_type": "code",
   "execution_count": 14,
   "id": "8f100f37-bb8c-49d6-9961-02901711ad7d",
   "metadata": {},
   "outputs": [],
   "source": [
    "# Configure LoRA (Low-Rank Adaptation) settings for a model\n",
    "lora_config = LoraConfig(\n",
    "    task_type=\"SEQ_CLS\",\n",
    "    r = 6,\n",
    "    lora_alpha=32,\n",
    "    lora_dropout=0.01,\n",
    "    target_modules=[\"q_lin\"]   \n",
    ")"
   ]
  },
  {
   "cell_type": "code",
   "execution_count": 15,
   "id": "c695b24d-0e22-45cf-8414-c636480ecb56",
   "metadata": {},
   "outputs": [],
   "source": [
    "model = get_peft_model(model,lora_config)"
   ]
  },
  {
   "cell_type": "code",
   "execution_count": 16,
   "id": "351edc98-d41a-46a1-a2e6-145f0374f0d6",
   "metadata": {},
   "outputs": [
    {
     "name": "stdout",
     "output_type": "stream",
     "text": [
      "trainable params: 1239556 || all params: 67602436 || trainable%: 1.8335966473160819\n"
     ]
    }
   ],
   "source": [
    "model.print_trainable_parameters()"
   ]
  },
  {
   "cell_type": "code",
   "execution_count": 17,
   "id": "674018ba-8d31-4286-aeb0-56072a9dfdb4",
   "metadata": {},
   "outputs": [],
   "source": [
    "# Set up training arguments for model training\n",
    "training_args = TrainingArguments(\n",
    "    output_dir= \"distilbert-base-uncased\" + \"Model-Text-Classification\",\n",
    "    per_device_train_batch_size=6,\n",
    "    per_device_eval_batch_size=6,\n",
    "    evaluation_strategy=\"epoch\",\n",
    "    save_strategy=\"epoch\",\n",
    "    learning_rate = 1e-5,\n",
    "    num_train_epochs=10,\n",
    "    weight_decay=0.01,\n",
    "    load_best_model_at_end=True\n",
    ")"
   ]
  },
  {
   "cell_type": "code",
   "execution_count": 18,
   "id": "3365e2b7-77a4-4dc3-bfda-0bf3c5e067bd",
   "metadata": {},
   "outputs": [],
   "source": [
    "# Set up the Trainer for training and evaluation\n",
    "trainer = Trainer(\n",
    "    model=model,\n",
    "    args=training_args,\n",
    "    tokenizer=Tokenizer,\n",
    "    train_dataset= tokenized_dataset[\"train\"],\n",
    "    eval_dataset = tokenized_dataset[\"validation\"],\n",
    "    compute_metrics= compute_metric,\n",
    "    data_collator=data_collator,\n",
    ")"
   ]
  },
  {
   "cell_type": "code",
   "execution_count": 19,
   "id": "e6f9f455-3cd0-49d5-b6ec-f79b6a206c1a",
   "metadata": {},
   "outputs": [
    {
     "name": "stderr",
     "output_type": "stream",
     "text": [
      "C:\\Users\\Nima\\AppData\\Local\\Programs\\Python\\Python311\\Lib\\site-packages\\transformers\\optimization.py:391: FutureWarning: This implementation of AdamW is deprecated and will be removed in a future version. Use the PyTorch implementation torch.optim.AdamW instead, or set `no_deprecation_warning=True` to disable this warning\n",
      "  warnings.warn(\n",
      "You're using a DistilBertTokenizerFast tokenizer. Please note that with a fast tokenizer, using the `__call__` method is faster than using a method to encode the text followed by a call to the `pad` method to get a padded encoding.\n"
     ]
    },
    {
     "data": {
      "text/html": [
       "\n",
       "    <div>\n",
       "      \n",
       "      <progress value='1670' max='1670' style='width:300px; height:20px; vertical-align: middle;'></progress>\n",
       "      [1670/1670 20:31, Epoch 10/10]\n",
       "    </div>\n",
       "    <table border=\"1\" class=\"dataframe\">\n",
       "  <thead>\n",
       " <tr style=\"text-align: left;\">\n",
       "      <th>Epoch</th>\n",
       "      <th>Training Loss</th>\n",
       "      <th>Validation Loss</th>\n",
       "      <th>Accuracy</th>\n",
       "    </tr>\n",
       "  </thead>\n",
       "  <tbody>\n",
       "    <tr>\n",
       "      <td>1</td>\n",
       "      <td>No log</td>\n",
       "      <td>0.288906</td>\n",
       "      <td>{'accuracy': 0.889}</td>\n",
       "    </tr>\n",
       "    <tr>\n",
       "      <td>2</td>\n",
       "      <td>No log</td>\n",
       "      <td>0.701047</td>\n",
       "      <td>{'accuracy': 0.855}</td>\n",
       "    </tr>\n",
       "    <tr>\n",
       "      <td>3</td>\n",
       "      <td>0.309900</td>\n",
       "      <td>0.432492</td>\n",
       "      <td>{'accuracy': 0.878}</td>\n",
       "    </tr>\n",
       "    <tr>\n",
       "      <td>4</td>\n",
       "      <td>0.309900</td>\n",
       "      <td>0.622782</td>\n",
       "      <td>{'accuracy': 0.88}</td>\n",
       "    </tr>\n",
       "    <tr>\n",
       "      <td>5</td>\n",
       "      <td>0.309900</td>\n",
       "      <td>0.772798</td>\n",
       "      <td>{'accuracy': 0.886}</td>\n",
       "    </tr>\n",
       "    <tr>\n",
       "      <td>6</td>\n",
       "      <td>0.075800</td>\n",
       "      <td>0.853956</td>\n",
       "      <td>{'accuracy': 0.885}</td>\n",
       "    </tr>\n",
       "    <tr>\n",
       "      <td>7</td>\n",
       "      <td>0.075800</td>\n",
       "      <td>0.887032</td>\n",
       "      <td>{'accuracy': 0.877}</td>\n",
       "    </tr>\n",
       "    <tr>\n",
       "      <td>8</td>\n",
       "      <td>0.075800</td>\n",
       "      <td>0.934234</td>\n",
       "      <td>{'accuracy': 0.878}</td>\n",
       "    </tr>\n",
       "    <tr>\n",
       "      <td>9</td>\n",
       "      <td>0.022900</td>\n",
       "      <td>0.910749</td>\n",
       "      <td>{'accuracy': 0.886}</td>\n",
       "    </tr>\n",
       "    <tr>\n",
       "      <td>10</td>\n",
       "      <td>0.022900</td>\n",
       "      <td>0.919872</td>\n",
       "      <td>{'accuracy': 0.887}</td>\n",
       "    </tr>\n",
       "  </tbody>\n",
       "</table><p>"
      ],
      "text/plain": [
       "<IPython.core.display.HTML object>"
      ]
     },
     "metadata": {},
     "output_type": "display_data"
    },
    {
     "name": "stderr",
     "output_type": "stream",
     "text": [
      "Trainer is attempting to log a value of \"{'accuracy': 0.889}\" of type <class 'dict'> for key \"eval/accuracy\" as a scalar. This invocation of Tensorboard's writer.add_scalar() is incorrect so we dropped this attribute.\n",
      "Trainer is attempting to log a value of \"{'accuracy': 0.855}\" of type <class 'dict'> for key \"eval/accuracy\" as a scalar. This invocation of Tensorboard's writer.add_scalar() is incorrect so we dropped this attribute.\n",
      "Trainer is attempting to log a value of \"{'accuracy': 0.878}\" of type <class 'dict'> for key \"eval/accuracy\" as a scalar. This invocation of Tensorboard's writer.add_scalar() is incorrect so we dropped this attribute.\n",
      "Trainer is attempting to log a value of \"{'accuracy': 0.88}\" of type <class 'dict'> for key \"eval/accuracy\" as a scalar. This invocation of Tensorboard's writer.add_scalar() is incorrect so we dropped this attribute.\n",
      "Trainer is attempting to log a value of \"{'accuracy': 0.886}\" of type <class 'dict'> for key \"eval/accuracy\" as a scalar. This invocation of Tensorboard's writer.add_scalar() is incorrect so we dropped this attribute.\n",
      "Trainer is attempting to log a value of \"{'accuracy': 0.885}\" of type <class 'dict'> for key \"eval/accuracy\" as a scalar. This invocation of Tensorboard's writer.add_scalar() is incorrect so we dropped this attribute.\n",
      "Trainer is attempting to log a value of \"{'accuracy': 0.877}\" of type <class 'dict'> for key \"eval/accuracy\" as a scalar. This invocation of Tensorboard's writer.add_scalar() is incorrect so we dropped this attribute.\n",
      "Trainer is attempting to log a value of \"{'accuracy': 0.878}\" of type <class 'dict'> for key \"eval/accuracy\" as a scalar. This invocation of Tensorboard's writer.add_scalar() is incorrect so we dropped this attribute.\n",
      "Trainer is attempting to log a value of \"{'accuracy': 0.886}\" of type <class 'dict'> for key \"eval/accuracy\" as a scalar. This invocation of Tensorboard's writer.add_scalar() is incorrect so we dropped this attribute.\n",
      "Trainer is attempting to log a value of \"{'accuracy': 0.887}\" of type <class 'dict'> for key \"eval/accuracy\" as a scalar. This invocation of Tensorboard's writer.add_scalar() is incorrect so we dropped this attribute.\n"
     ]
    },
    {
     "data": {
      "text/plain": [
       "TrainOutput(global_step=1670, training_loss=0.12265576823742803, metrics={'train_runtime': 1237.3949, 'train_samples_per_second': 8.081, 'train_steps_per_second': 1.35, 'total_flos': 1344562913280000.0, 'train_loss': 0.12265576823742803, 'epoch': 10.0})"
      ]
     },
     "execution_count": 19,
     "metadata": {},
     "output_type": "execute_result"
    }
   ],
   "source": [
    "trainer.train()"
   ]
  },
  {
   "cell_type": "code",
   "execution_count": 45,
   "id": "e60638eb-819d-4167-be0e-4c34256e81bf",
   "metadata": {},
   "outputs": [
    {
     "name": "stdout",
     "output_type": "stream",
     "text": [
      "Sentiment Analysis LLM results:\n",
      "--------------------------\n",
      "i would like to ask for a refund - Negative\n",
      "--------------------------\n"
     ]
    }
   ],
   "source": [
    "text_list = [\"i would like to ask for a refund\"]\n",
    "print(\"Sentiment Analysis LLM results:\")\n",
    "print(\"--------------------------\")\n",
    "# Iterate over each text in the list\n",
    "for text in text_list:\n",
    "    # Tokenize text and move inputs to GPU\n",
    "    inputs = Tokenizer.encode(text, return_tensors=\"pt\").to(\"cuda\")\n",
    "    # Compute logits\n",
    "    logits = model(inputs).logits\n",
    "    # Convert logits to label\n",
    "    output = torch.max(logits,1).indices\n",
    "\n",
    "    print(text + \" - \" + id2label[output.tolist()[0]])\n",
    "    print(\"--------------------------\")"
   ]
  },
  {
   "cell_type": "code",
   "execution_count": 46,
   "id": "7b43958f-6417-4d05-9a3f-4237e60f2b0f",
   "metadata": {},
   "outputs": [],
   "source": [
    "#Save the model in your directory\n",
    "model.save_pretrained(\"Model\")"
   ]
  },
  {
   "cell_type": "code",
   "execution_count": 47,
   "id": "c4a24609-8661-4ca2-b883-1f0567fc0bfd",
   "metadata": {},
   "outputs": [],
   "source": [
    "#Save the Tokenizer in your directory\n",
    "tokenizer.save_pretrained(\"Model\")"
   ]
  }
 ],
 "metadata": {
  "kernelspec": {
   "display_name": "Python 3 (ipykernel)",
   "language": "python",
   "name": "python3"
  },
  "language_info": {
   "codemirror_mode": {
    "name": "ipython",
    "version": 3
   },
   "file_extension": ".py",
   "mimetype": "text/x-python",
   "name": "python",
   "nbconvert_exporter": "python",
   "pygments_lexer": "ipython3",
   "version": "3.12.5"
  }
 },
 "nbformat": 4,
 "nbformat_minor": 5
}
